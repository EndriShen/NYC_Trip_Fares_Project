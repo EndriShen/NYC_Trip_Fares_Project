{
 "cells": [
  {
   "cell_type": "markdown",
   "metadata": {},
   "source": [
    "# NYC Trip Fares Project - Fundamentals of Computer Science 24/25"
   ]
  },
  {
   "cell_type": "code",
   "execution_count": 1,
   "metadata": {},
   "outputs": [],
   "source": [
    "import numpy as np"
   ]
  },
  {
   "cell_type": "code",
   "execution_count": 2,
   "metadata": {},
   "outputs": [],
   "source": [
    "import pandas as pd"
   ]
  },
  {
   "cell_type": "code",
   "execution_count": 4,
   "metadata": {
    "scrolled": true
   },
   "outputs": [
    {
     "name": "stdout",
     "output_type": "stream",
     "text": [
      "   VendorID tpep_pickup_datetime tpep_dropoff_datetime  passenger_count  \\\n",
      "0       1.0  2020-01-01 00:28:15   2020-01-01 00:33:03              1.0   \n",
      "1       1.0  2020-01-01 00:35:39   2020-01-01 00:43:04              1.0   \n",
      "2       1.0  2020-01-01 00:47:41   2020-01-01 00:53:52              1.0   \n",
      "3       1.0  2020-01-01 00:55:23   2020-01-01 01:00:14              1.0   \n",
      "4       2.0  2020-01-01 00:01:58   2020-01-01 00:04:16              1.0   \n",
      "\n",
      "   trip_distance  RatecodeID store_and_fwd_flag  PULocationID  DOLocationID  \\\n",
      "0            1.2         1.0                  N           238           239   \n",
      "1            1.2         1.0                  N           239           238   \n",
      "2            0.6         1.0                  N           238           238   \n",
      "3            0.8         1.0                  N           238           151   \n",
      "4            0.0         1.0                  N           193           193   \n",
      "\n",
      "   payment_type  fare_amount  extra  mta_tax  tip_amount  tolls_amount  \\\n",
      "0           1.0          6.0    3.0      0.5        1.47           0.0   \n",
      "1           1.0          7.0    3.0      0.5        1.50           0.0   \n",
      "2           1.0          6.0    3.0      0.5        1.00           0.0   \n",
      "3           1.0          5.5    0.5      0.5        1.36           0.0   \n",
      "4           2.0          3.5    0.5      0.5        0.00           0.0   \n",
      "\n",
      "   improvement_surcharge  total_amount  congestion_surcharge  \n",
      "0                    0.3         11.27                   2.5  \n",
      "1                    0.3         12.30                   2.5  \n",
      "2                    0.3         10.80                   2.5  \n",
      "3                    0.3          8.16                   0.0  \n",
      "4                    0.3          4.80                   0.0  \n"
     ]
    }
   ],
   "source": [
    "file_path = 'NYCTripFares.csv'\n",
    "data = pd.read_csv(file_path, low_memory = False)\n",
    "\n",
    "print(data.head())"
   ]
  },
  {
   "cell_type": "markdown",
   "metadata": {},
   "source": [
    "### 1. Extract all trips with trip_distance larger than 50"
   ]
  },
  {
   "cell_type": "code",
   "execution_count": 5,
   "metadata": {},
   "outputs": [
    {
     "name": "stdout",
     "output_type": "stream",
     "text": [
      "       VendorID tpep_pickup_datetime tpep_dropoff_datetime  passenger_count  \\\n",
      "23842       2.0  2020-01-01 01:53:07   2020-01-01 03:54:41              1.0   \n",
      "39013       2.0  2020-01-01 02:05:07   2020-01-01 03:03:10              1.0   \n",
      "41620       1.0  2020-01-01 03:05:54   2020-01-01 04:16:26              1.0   \n",
      "58262       2.0  2020-01-01 05:36:12   2020-01-01 06:40:06              1.0   \n",
      "63024       2.0  2020-01-01 07:40:30   2020-01-01 08:40:01              1.0   \n",
      "\n",
      "       trip_distance  RatecodeID store_and_fwd_flag  PULocationID  \\\n",
      "23842          52.30         5.0                  N           262   \n",
      "39013          51.23         5.0                  N           264   \n",
      "41620          53.80         5.0                  N           132   \n",
      "58262          55.23         5.0                  N           132   \n",
      "63024          54.19         5.0                  N           132   \n",
      "\n",
      "       DOLocationID  payment_type  fare_amount  extra  mta_tax  tip_amount  \\\n",
      "23842           265           1.0        300.0    0.0      0.0       61.78   \n",
      "39013           264           1.0        329.0    0.0      0.5      100.78   \n",
      "41620           265           1.0        250.0    0.0      0.0       53.35   \n",
      "58262           265           2.0        170.0    0.0      0.5        0.00   \n",
      "63024           265           1.0        230.0    0.0      0.0        0.00   \n",
      "\n",
      "       tolls_amount  improvement_surcharge  total_amount  congestion_surcharge  \n",
      "23842          6.12                    0.3        370.70                   2.5  \n",
      "39013          6.12                    0.3        436.70                   0.0  \n",
      "41620         16.62                    0.3        320.27                   0.0  \n",
      "58262         18.26                    0.3        189.06                   0.0  \n",
      "63024         12.24                    0.3        242.54                   0.0  \n",
      "Number of trips with trip_distance > 50: 379\n"
     ]
    }
   ],
   "source": [
    "# Extract trips where trip_distance > 50\n",
    "filtered_data = data[data['trip_distance'] > 50]\n",
    "\n",
    "# Display the first few rows\n",
    "print(filtered_data.head())\n",
    "print(f\"Number of trips with trip_distance > 50: {len(filtered_data)}\")"
   ]
  },
  {
   "cell_type": "markdown",
   "metadata": {},
   "source": [
    "### 2. Extract all trips where payment_type is missing"
   ]
  },
  {
   "cell_type": "code",
   "execution_count": 6,
   "metadata": {},
   "outputs": [
    {
     "name": "stdout",
     "output_type": "stream",
     "text": [
      "         VendorID tpep_pickup_datetime tpep_dropoff_datetime  passenger_count  \\\n",
      "6339567       NaN  2020-01-01 08:51:00   2020-01-01 09:19:00              NaN   \n",
      "6339568       NaN  2020-01-01 08:38:43   2020-01-01 08:51:08              NaN   \n",
      "6339569       NaN  2020-01-01 08:27:00   2020-01-01 08:32:00              NaN   \n",
      "6339570       NaN  2020-01-01 08:46:00   2020-01-01 08:57:00              NaN   \n",
      "6339571       NaN  2020-01-01 08:21:00   2020-01-01 08:38:00              NaN   \n",
      "\n",
      "         trip_distance  RatecodeID store_and_fwd_flag  PULocationID  \\\n",
      "6339567          13.69         NaN                NaN           136   \n",
      "6339568           3.42         NaN                NaN           121   \n",
      "6339569           2.20         NaN                NaN           197   \n",
      "6339570           0.84         NaN                NaN           262   \n",
      "6339571           7.24         NaN                NaN            45   \n",
      "\n",
      "         DOLocationID  payment_type  fare_amount  extra  mta_tax  tip_amount  \\\n",
      "6339567           232           NaN        51.05   2.75      0.5         0.0   \n",
      "6339568             9           NaN        27.06   2.75      0.0         0.0   \n",
      "6339569           216           NaN        24.36   2.75      0.5         0.0   \n",
      "6339570           236           NaN        26.08   2.75      0.5         0.0   \n",
      "6339571           142           NaN        25.28   2.75      0.5         0.0   \n",
      "\n",
      "         tolls_amount  improvement_surcharge  total_amount  \\\n",
      "6339567           0.0                    0.3         54.60   \n",
      "6339568           0.0                    0.3         30.11   \n",
      "6339569           0.0                    0.3         27.91   \n",
      "6339570           0.0                    0.3         29.63   \n",
      "6339571           0.0                    0.3         28.83   \n",
      "\n",
      "         congestion_surcharge  \n",
      "6339567                   0.0  \n",
      "6339568                   0.0  \n",
      "6339569                   0.0  \n",
      "6339570                   0.0  \n",
      "6339571                   0.0  \n",
      "Number of trips with missing payment_type: 65441\n"
     ]
    }
   ],
   "source": [
    "# Extract trips where payment_type is missing (NaN)\n",
    "missing_payment_type = data[data['payment_type'].isna()]\n",
    "\n",
    "# Display the first few rows\n",
    "print(missing_payment_type.head())\n",
    "print(f\"Number of trips with missing payment_type: {len(missing_payment_type)}\")"
   ]
  },
  {
   "cell_type": "markdown",
   "metadata": {},
   "source": [
    "### 3. For each (PULocationID, DOLocationID) pair, determine the number of trips"
   ]
  },
  {
   "cell_type": "code",
   "execution_count": 7,
   "metadata": {},
   "outputs": [
    {
     "data": {
      "text/html": [
       "<div>\n",
       "<style scoped>\n",
       "    .dataframe tbody tr th:only-of-type {\n",
       "        vertical-align: middle;\n",
       "    }\n",
       "\n",
       "    .dataframe tbody tr th {\n",
       "        vertical-align: top;\n",
       "    }\n",
       "\n",
       "    .dataframe thead th {\n",
       "        text-align: right;\n",
       "    }\n",
       "</style>\n",
       "<table border=\"1\" class=\"dataframe\">\n",
       "  <thead>\n",
       "    <tr style=\"text-align: right;\">\n",
       "      <th></th>\n",
       "      <th>PULocationID</th>\n",
       "      <th>DOLocationID</th>\n",
       "      <th>trip_count</th>\n",
       "    </tr>\n",
       "  </thead>\n",
       "  <tbody>\n",
       "    <tr>\n",
       "      <th>0</th>\n",
       "      <td>1</td>\n",
       "      <td>1</td>\n",
       "      <td>638</td>\n",
       "    </tr>\n",
       "    <tr>\n",
       "      <th>1</th>\n",
       "      <td>1</td>\n",
       "      <td>50</td>\n",
       "      <td>1</td>\n",
       "    </tr>\n",
       "    <tr>\n",
       "      <th>2</th>\n",
       "      <td>1</td>\n",
       "      <td>68</td>\n",
       "      <td>1</td>\n",
       "    </tr>\n",
       "    <tr>\n",
       "      <th>3</th>\n",
       "      <td>1</td>\n",
       "      <td>138</td>\n",
       "      <td>2</td>\n",
       "    </tr>\n",
       "    <tr>\n",
       "      <th>4</th>\n",
       "      <td>1</td>\n",
       "      <td>140</td>\n",
       "      <td>1</td>\n",
       "    </tr>\n",
       "    <tr>\n",
       "      <th>5</th>\n",
       "      <td>1</td>\n",
       "      <td>148</td>\n",
       "      <td>1</td>\n",
       "    </tr>\n",
       "    <tr>\n",
       "      <th>6</th>\n",
       "      <td>1</td>\n",
       "      <td>211</td>\n",
       "      <td>1</td>\n",
       "    </tr>\n",
       "    <tr>\n",
       "      <th>7</th>\n",
       "      <td>1</td>\n",
       "      <td>231</td>\n",
       "      <td>1</td>\n",
       "    </tr>\n",
       "    <tr>\n",
       "      <th>8</th>\n",
       "      <td>1</td>\n",
       "      <td>264</td>\n",
       "      <td>105</td>\n",
       "    </tr>\n",
       "    <tr>\n",
       "      <th>9</th>\n",
       "      <td>1</td>\n",
       "      <td>265</td>\n",
       "      <td>4</td>\n",
       "    </tr>\n",
       "  </tbody>\n",
       "</table>\n",
       "</div>"
      ],
      "text/plain": [
       "   PULocationID  DOLocationID  trip_count\n",
       "0             1             1         638\n",
       "1             1            50           1\n",
       "2             1            68           1\n",
       "3             1           138           2\n",
       "4             1           140           1\n",
       "5             1           148           1\n",
       "6             1           211           1\n",
       "7             1           231           1\n",
       "8             1           264         105\n",
       "9             1           265           4"
      ]
     },
     "execution_count": 7,
     "metadata": {},
     "output_type": "execute_result"
    }
   ],
   "source": [
    "# Group by (PULocationID, DOLocationID) and count trips\n",
    "trip_counts = data.groupby(['PULocationID', 'DOLocationID']).size().reset_index(name='trip_count')\n",
    "\n",
    "# Display the first few rows\n",
    "trip_counts.head(10)"
   ]
  },
  {
   "cell_type": "markdown",
   "metadata": {},
   "source": [
    "### 4. Save all rows with missing VendorID, passenger_count, store_and_fwd_flag, payment_type in a new dataframe called bad, and remove those rows from the original dataframe."
   ]
  },
  {
   "cell_type": "code",
   "execution_count": 8,
   "metadata": {},
   "outputs": [
    {
     "name": "stdout",
     "output_type": "stream",
     "text": [
      "         VendorID tpep_pickup_datetime tpep_dropoff_datetime  passenger_count  \\\n",
      "6339567       NaN  2020-01-01 08:51:00   2020-01-01 09:19:00              NaN   \n",
      "6339568       NaN  2020-01-01 08:38:43   2020-01-01 08:51:08              NaN   \n",
      "6339569       NaN  2020-01-01 08:27:00   2020-01-01 08:32:00              NaN   \n",
      "6339570       NaN  2020-01-01 08:46:00   2020-01-01 08:57:00              NaN   \n",
      "6339571       NaN  2020-01-01 08:21:00   2020-01-01 08:38:00              NaN   \n",
      "\n",
      "         trip_distance  RatecodeID store_and_fwd_flag  PULocationID  \\\n",
      "6339567          13.69         NaN                NaN           136   \n",
      "6339568           3.42         NaN                NaN           121   \n",
      "6339569           2.20         NaN                NaN           197   \n",
      "6339570           0.84         NaN                NaN           262   \n",
      "6339571           7.24         NaN                NaN            45   \n",
      "\n",
      "         DOLocationID  payment_type  fare_amount  extra  mta_tax  tip_amount  \\\n",
      "6339567           232           NaN        51.05   2.75      0.5         0.0   \n",
      "6339568             9           NaN        27.06   2.75      0.0         0.0   \n",
      "6339569           216           NaN        24.36   2.75      0.5         0.0   \n",
      "6339570           236           NaN        26.08   2.75      0.5         0.0   \n",
      "6339571           142           NaN        25.28   2.75      0.5         0.0   \n",
      "\n",
      "         tolls_amount  improvement_surcharge  total_amount  \\\n",
      "6339567           0.0                    0.3         54.60   \n",
      "6339568           0.0                    0.3         30.11   \n",
      "6339569           0.0                    0.3         27.91   \n",
      "6339570           0.0                    0.3         29.63   \n",
      "6339571           0.0                    0.3         28.83   \n",
      "\n",
      "         congestion_surcharge  \n",
      "6339567                   0.0  \n",
      "6339568                   0.0  \n",
      "6339569                   0.0  \n",
      "6339570                   0.0  \n",
      "6339571                   0.0  \n",
      "Number of rows in 'bad': 65441\n",
      "Number of rows in 'data' after removal: 6339567\n"
     ]
    }
   ],
   "source": [
    "# Identify rows with missing values in specified columns\n",
    "columns_to_check = ['VendorID', 'passenger_count', 'store_and_fwd_flag', 'payment_type']\n",
    "bad = data[data[columns_to_check].isna().any(axis=1)]\n",
    "\n",
    "# Display the first few rows\n",
    "print(bad.head())\n",
    "\n",
    "# Remove rows from the original DataFrame\n",
    "data = data.drop(bad.index)\n",
    "\n",
    "# Display the shapes of the resulting DataFrames for verification\n",
    "print(f\"Number of rows in 'bad': {len(bad)}\")\n",
    "print(f\"Number of rows in 'data' after removal: {len(data)}\")\n"
   ]
  },
  {
   "cell_type": "markdown",
   "metadata": {},
   "source": [
    "### 5. Add a duration column storing how long each trip has taken (use tpep_pickup_datetime, tpep_dropoff_datetime)"
   ]
  },
  {
   "cell_type": "code",
   "execution_count": 9,
   "metadata": {},
   "outputs": [
    {
     "name": "stdout",
     "output_type": "stream",
     "text": [
      "  tpep_pickup_datetime tpep_dropoff_datetime        duration\n",
      "0  2020-01-01 00:28:15   2020-01-01 00:33:03 0 days 00:04:48\n",
      "1  2020-01-01 00:35:39   2020-01-01 00:43:04 0 days 00:07:25\n",
      "2  2020-01-01 00:47:41   2020-01-01 00:53:52 0 days 00:06:11\n",
      "3  2020-01-01 00:55:23   2020-01-01 01:00:14 0 days 00:04:51\n",
      "4  2020-01-01 00:01:58   2020-01-01 00:04:16 0 days 00:02:18\n"
     ]
    }
   ],
   "source": [
    "# Ensure the datetime columns are in correct format\n",
    "data['tpep_pickup_datetime'] = pd.to_datetime(data['tpep_pickup_datetime'])\n",
    "data['tpep_dropoff_datetime'] = pd.to_datetime(data['tpep_dropoff_datetime'])\n",
    "\n",
    "# Calculate the duration in minutes\n",
    "data['duration'] = (data['tpep_dropoff_datetime'] - data['tpep_pickup_datetime'])\n",
    "\n",
    "# Display the first few rows\n",
    "print(data[['tpep_pickup_datetime', 'tpep_dropoff_datetime', 'duration']].head())"
   ]
  },
  {
   "cell_type": "markdown",
   "metadata": {},
   "source": [
    "### 6. For each pickup location, determine how many trips have started there."
   ]
  },
  {
   "cell_type": "code",
   "execution_count": 10,
   "metadata": {},
   "outputs": [
    {
     "name": "stdout",
     "output_type": "stream",
     "text": [
      "   PULocationID  trip_count\n",
      "0             1         753\n",
      "1             2           3\n",
      "2             3          70\n",
      "3             4        9902\n",
      "4             5          39\n",
      "5             6          12\n",
      "6             7        8271\n",
      "7             8          86\n",
      "8             9          39\n",
      "9            10        1956\n"
     ]
    }
   ],
   "source": [
    "# Group by PULocationID and count the number of trips\n",
    "pickup_counts = data.groupby('PULocationID').size().reset_index(name='trip_count')\n",
    "\n",
    "# Display the first few rows\n",
    "print(pickup_counts.head(10))"
   ]
  },
  {
   "cell_type": "markdown",
   "metadata": {},
   "source": [
    "### 7. Cluster the pickup time of the day into 30-minute intervals (e.g. from 02:00 to 02:30)"
   ]
  },
  {
   "cell_type": "code",
   "execution_count": 11,
   "metadata": {},
   "outputs": [
    {
     "name": "stdout",
     "output_type": "stream",
     "text": [
      "  tpep_pickup_datetime    pickup_interval\n",
      "0  2020-01-01 00:28:15  00:00:00-00:30:00\n",
      "1  2020-01-01 00:35:39  00:30:00-01:00:00\n",
      "2  2020-01-01 00:47:41  00:30:00-01:00:00\n",
      "3  2020-01-01 00:55:23  00:30:00-01:00:00\n",
      "4  2020-01-01 00:01:58  00:00:00-00:30:00\n",
      "5  2020-01-01 00:09:44  00:00:00-00:30:00\n",
      "6  2020-01-01 00:39:25  00:30:00-01:00:00\n",
      "7  2019-12-18 15:27:49  15:00:00-15:30:00\n",
      "8  2019-12-18 15:30:35  15:30:00-16:00:00\n",
      "9  2020-01-01 00:29:01  00:00:00-00:30:00\n"
     ]
    }
   ],
   "source": [
    "data['tpep_pickup_datetime'] = pd.to_datetime(data['tpep_pickup_datetime'])\n",
    "\n",
    "# Define a function to calculate the 30-minute interval\n",
    "def get_time_interval(pickup_time):\n",
    "    # Floor the time to the nearest 30 minutes\n",
    "    start_interval = pickup_time.floor('30min')\n",
    "    # Add 30 minutes to get the end of the interval\n",
    "    end_interval = start_interval + pd.Timedelta(minutes=30)\n",
    "    \n",
    "    return f\"{start_interval.time()}-{end_interval.time()}\"\n",
    "\n",
    "# Creating the new column and displaying the first rows\n",
    "data['pickup_interval'] = data['tpep_pickup_datetime'].apply(get_time_interval)\n",
    "print(data[['tpep_pickup_datetime', 'pickup_interval']].head(10))"
   ]
  },
  {
   "cell_type": "markdown",
   "metadata": {},
   "source": [
    "### 8. For each interval, determine the average number of passengers and the average fare amount."
   ]
  },
  {
   "cell_type": "code",
   "execution_count": null,
   "metadata": {},
   "outputs": [],
   "source": [
    "# Group by pickup_interval and calculate average passengers and fare amount\n",
    "interval_averages = data.groupby('pickup_interval').agg(\n",
    "    avg_passengers=('passenger_count', 'mean'),\n",
    "    avg_fare=('fare_amount', 'mean')\n",
    ").reset_index()\n",
    "\n",
    "# Display the first few rows of the results\n",
    "print(interval_averages.head())"
   ]
  },
  {
   "cell_type": "markdown",
   "metadata": {},
   "source": [
    "### 9. For each payment type and each interval, determine the average fare amount"
   ]
  },
  {
   "cell_type": "code",
   "execution_count": 12,
   "metadata": {},
   "outputs": [
    {
     "name": "stdout",
     "output_type": "stream",
     "text": [
      "   payment_type    pickup_interval   avg_fare\n",
      "0           1.0  00:00:00-00:30:00  13.869142\n",
      "1           1.0  00:30:00-01:00:00  13.472232\n",
      "2           1.0  01:00:00-01:30:00  12.824603\n",
      "3           1.0  01:30:00-02:00:00  12.357974\n",
      "4           1.0  02:00:00-02:30:00  12.008589\n"
     ]
    }
   ],
   "source": [
    "# Group by payment_type and pickup_interval, then calculate the average fare amount\n",
    "payment_interval_averages = data.groupby(['payment_type', 'pickup_interval']).agg(\n",
    "    avg_fare=('fare_amount', 'mean')\n",
    ").reset_index()\n",
    "\n",
    "# Display the first few rows of the results\n",
    "print(payment_interval_averages.head())"
   ]
  },
  {
   "cell_type": "markdown",
   "metadata": {},
   "source": [
    "## 10. For each payment type, determine the interval when the average fare amount is maximum"
   ]
  },
  {
   "cell_type": "code",
   "execution_count": 13,
   "metadata": {},
   "outputs": [
    {
     "name": "stdout",
     "output_type": "stream",
     "text": [
      "     payment_type    pickup_interval   avg_fare\n",
      "10            1.0  05:00:00-05:30:00  21.256949\n",
      "58            2.0  05:00:00-05:30:00  14.846814\n",
      "110           3.0  07:00:00-07:30:00  10.950938\n",
      "154           4.0  05:00:00-05:30:00   6.634043\n",
      "192           5.0  17:30:00-18:00:00   0.000000\n"
     ]
    }
   ],
   "source": [
    "# Group by payment_type and pickup_interval, then calculate the average fare amount\n",
    "payment_interval_averages = data.groupby(['payment_type', 'pickup_interval']).agg(\n",
    "    avg_fare=('fare_amount', 'mean')\n",
    ").reset_index()\n",
    "\n",
    "# Find the interval with the maximum average fare for each payment type\n",
    "max_fare_intervals = payment_interval_averages.loc[\n",
    "    payment_interval_averages.groupby('payment_type')['avg_fare'].idxmax()\n",
    "]\n",
    "\n",
    "print(max_fare_intervals.head())"
   ]
  },
  {
   "cell_type": "markdown",
   "metadata": {},
   "source": [
    "### 11. For each payment type, determine the interval when the overall ratio between the tip and the fare amounts is maximum"
   ]
  },
  {
   "cell_type": "code",
   "execution_count": 14,
   "metadata": {},
   "outputs": [
    {
     "name": "stdout",
     "output_type": "stream",
     "text": [
      "     payment_type    pickup_interval  avg_tip_fare_ratio\n",
      "3             1.0  01:30:00-02:00:00            0.503453\n",
      "66            2.0  09:00:00-09:30:00            0.000051\n",
      "138           3.0  21:00:00-21:30:00            0.028968\n",
      "164           4.0  10:00:00-10:30:00            0.002337\n"
     ]
    }
   ],
   "source": [
    "# Ensure no division by zero\n",
    "data = data[data['fare_amount'] > 0]\n",
    "\n",
    "# Calculate the tip-to-fare ratio\n",
    "data['tip_fare_ratio'] = data['tip_amount'] / data['fare_amount']\n",
    "\n",
    "# Group by payment_type and pickup_interval, then calculate the average tip-to-fare ratio\n",
    "payment_interval_ratios = data.groupby(['payment_type', 'pickup_interval']).agg(\n",
    "    avg_tip_fare_ratio=('tip_fare_ratio', 'mean')\n",
    ").reset_index()\n",
    "\n",
    "# Find the interval with the maximum average tip-to-fare ratio for each payment type\n",
    "max_ratio_intervals = payment_interval_ratios.loc[\n",
    "    payment_interval_ratios.groupby('payment_type')['avg_tip_fare_ratio'].idxmax()\n",
    "]\n",
    "\n",
    "# Display the results\n",
    "print(max_ratio_intervals.head())"
   ]
  },
  {
   "cell_type": "markdown",
   "metadata": {},
   "source": [
    "### 12. Find the location with the highest average fare amount"
   ]
  },
  {
   "cell_type": "code",
   "execution_count": 15,
   "metadata": {},
   "outputs": [
    {
     "name": "stdout",
     "output_type": "stream",
     "text": [
      "Location with the highest average fare amount:\n",
      "LocationID    150-265\n",
      "avg_fare        317.5\n",
      "Name: 5992, dtype: object\n"
     ]
    }
   ],
   "source": [
    "# Combine pickup and drop-off locations into a single column\n",
    "data['LocationID'] = data['PULocationID'].astype(str) + '-' + data['DOLocationID'].astype(str)\n",
    "\n",
    "# Group by LocationID and calculate the average fare amount\n",
    "location_avg_fare = data.groupby('LocationID').agg(\n",
    "    avg_fare=('fare_amount', 'mean')\n",
    ").reset_index()\n",
    "\n",
    "# Find the location with the highest average fare\n",
    "highest_avg_fare_location = location_avg_fare.loc[location_avg_fare['avg_fare'].idxmax()]\n",
    "\n",
    "# Display the result\n",
    "print(\"Location with the highest average fare amount:\")\n",
    "print(highest_avg_fare_location)\n"
   ]
  },
  {
   "cell_type": "markdown",
   "metadata": {},
   "source": [
    "### 13. Build a new dataframe (called common) where, for each pickup location we keep all trips to the 5 most common destinations (i.e. each pickup location can have different common destinations)."
   ]
  },
  {
   "cell_type": "code",
   "execution_count": 16,
   "metadata": {},
   "outputs": [
    {
     "name": "stderr",
     "output_type": "stream",
     "text": [
      "/var/folders/jd/24fxd0md1_g8flq3hmfh5vmh0000gn/T/ipykernel_43569/2984924292.py:5: DeprecationWarning: DataFrameGroupBy.apply operated on the grouping columns. This behavior is deprecated, and in a future version of pandas the grouping columns will be excluded from the operation. Either pass `include_groups=False` to exclude the groupings or explicitly select the grouping columns after groupby to silence this warning.\n",
      "  top_destinations = trip_counts.groupby('PULocationID').apply(\n"
     ]
    },
    {
     "name": "stdout",
     "output_type": "stream",
     "text": [
      "   VendorID tpep_pickup_datetime tpep_dropoff_datetime  passenger_count  \\\n",
      "0       1.0  2020-01-01 00:28:15   2020-01-01 00:33:03              1.0   \n",
      "1       1.0  2020-01-01 00:35:39   2020-01-01 00:43:04              1.0   \n",
      "2       1.0  2020-01-01 00:47:41   2020-01-01 00:53:52              1.0   \n",
      "3       1.0  2020-01-01 00:55:23   2020-01-01 01:00:14              1.0   \n",
      "4       2.0  2020-01-01 00:01:58   2020-01-01 00:04:16              1.0   \n",
      "5       2.0  2020-01-01 00:09:44   2020-01-01 00:10:37              1.0   \n",
      "6       2.0  2020-01-01 00:39:25   2020-01-01 00:39:29              1.0   \n",
      "7       2.0  2019-12-18 15:27:49   2019-12-18 15:28:59              1.0   \n",
      "8       2.0  2019-12-18 15:30:35   2019-12-18 15:31:35              4.0   \n",
      "9       1.0  2020-01-01 00:29:01   2020-01-01 00:40:28              2.0   \n",
      "\n",
      "   trip_distance  RatecodeID store_and_fwd_flag  PULocationID  DOLocationID  \\\n",
      "0           1.20         1.0                  N           238           239   \n",
      "1           1.20         1.0                  N           239           238   \n",
      "2           0.60         1.0                  N           238           238   \n",
      "3           0.80         1.0                  N           238           151   \n",
      "4           0.00         1.0                  N           193           193   \n",
      "5           0.03         1.0                  N             7           193   \n",
      "6           0.00         1.0                  N           193           193   \n",
      "7           0.00         5.0                  N           193           193   \n",
      "8           0.00         1.0                  N           193           193   \n",
      "9           0.70         1.0                  N           246            48   \n",
      "\n",
      "   payment_type  ...  mta_tax  tip_amount  tolls_amount  \\\n",
      "0           1.0  ...      0.5        1.47           0.0   \n",
      "1           1.0  ...      0.5        1.50           0.0   \n",
      "2           1.0  ...      0.5        1.00           0.0   \n",
      "3           1.0  ...      0.5        1.36           0.0   \n",
      "4           2.0  ...      0.5        0.00           0.0   \n",
      "5           2.0  ...      0.5        0.00           0.0   \n",
      "6           1.0  ...      0.5        0.01           0.0   \n",
      "7           1.0  ...      0.0        0.00           0.0   \n",
      "8           1.0  ...      0.5        0.00           0.0   \n",
      "9           1.0  ...      0.5        2.35           0.0   \n",
      "\n",
      "   improvement_surcharge  total_amount  congestion_surcharge        duration  \\\n",
      "0                    0.3         11.27                   2.5 0 days 00:04:48   \n",
      "1                    0.3         12.30                   2.5 0 days 00:07:25   \n",
      "2                    0.3         10.80                   2.5 0 days 00:06:11   \n",
      "3                    0.3          8.16                   0.0 0 days 00:04:51   \n",
      "4                    0.3          4.80                   0.0 0 days 00:02:18   \n",
      "5                    0.3          3.80                   0.0 0 days 00:00:53   \n",
      "6                    0.3          3.81                   0.0 0 days 00:00:04   \n",
      "7                    0.3          2.81                   2.5 0 days 00:01:10   \n",
      "8                    0.3          6.30                   2.5 0 days 00:01:00   \n",
      "9                    0.3         14.15                   2.5 0 days 00:11:27   \n",
      "\n",
      "     pickup_interval tip_fare_ratio LocationID  \n",
      "0  00:00:00-00:30:00       0.245000    238-239  \n",
      "1  00:30:00-01:00:00       0.214286    239-238  \n",
      "2  00:30:00-01:00:00       0.166667    238-238  \n",
      "3  00:30:00-01:00:00       0.247273    238-151  \n",
      "4  00:00:00-00:30:00       0.000000    193-193  \n",
      "5  00:00:00-00:30:00       0.000000      7-193  \n",
      "6  00:30:00-01:00:00       0.004000    193-193  \n",
      "7  15:00:00-15:30:00       0.000000    193-193  \n",
      "8  15:30:00-16:00:00       0.000000    193-193  \n",
      "9  00:00:00-00:30:00       0.293750     246-48  \n",
      "\n",
      "[10 rows x 22 columns]\n"
     ]
    }
   ],
   "source": [
    "# Count the number of trips for each (PULocationID, DOLocationID) pair\n",
    "trip_counts = data.groupby(['PULocationID', 'DOLocationID']).size().reset_index(name='trip_count')\n",
    "\n",
    "# Find the top 5 destinations for each pickup location\n",
    "top_destinations = trip_counts.groupby('PULocationID').apply(\n",
    "    lambda x: x.nlargest(5, 'trip_count')\n",
    ").reset_index(drop=True)\n",
    "\n",
    "# Filter the original dataset to keep only trips to the top 5 destinations for each pickup location\n",
    "common = data.merge(\n",
    "    top_destinations[['PULocationID', 'DOLocationID']],\n",
    "    on=['PULocationID', 'DOLocationID'],\n",
    "    how='inner'\n",
    ")\n",
    "\n",
    "# Display the first few rows of the common DataFrame\n",
    "print(common.head(10))"
   ]
  },
  {
   "cell_type": "markdown",
   "metadata": {},
   "source": [
    "### 14. On the common dataframe, for each payment type and each interval, determine the average fare amount"
   ]
  },
  {
   "cell_type": "code",
   "execution_count": 17,
   "metadata": {},
   "outputs": [
    {
     "name": "stdout",
     "output_type": "stream",
     "text": [
      "   payment_type    pickup_interval   avg_fare\n",
      "0           1.0  00:00:00-00:30:00   8.546725\n",
      "1           1.0  00:30:00-01:00:00   8.636446\n",
      "2           1.0  01:00:00-01:30:00   8.484025\n",
      "3           1.0  01:30:00-02:00:00   7.965097\n",
      "4           1.0  02:00:00-02:30:00   7.928883\n",
      "5           1.0  02:30:00-03:00:00   7.683125\n",
      "6           1.0  03:00:00-03:30:00   8.035721\n",
      "7           1.0  03:30:00-04:00:00   8.302950\n",
      "8           1.0  04:00:00-04:30:00   8.947290\n",
      "9           1.0  04:30:00-05:00:00  10.781366\n"
     ]
    }
   ],
   "source": [
    "# Group by payment_type and pickup_interval, then calculate the average fare amount\n",
    "common_payment_interval_averages = common.groupby(['payment_type', 'pickup_interval']).agg(\n",
    "    avg_fare=('fare_amount', 'mean')\n",
    ").reset_index()\n",
    "\n",
    "# Display the first few rows of the result\n",
    "print(common_payment_interval_averages.head(10))"
   ]
  },
  {
   "cell_type": "markdown",
   "metadata": {},
   "source": [
    "### 15. Compute the difference of the average fare amount computed in the previous point with those computed at point 9."
   ]
  },
  {
   "cell_type": "code",
   "execution_count": 18,
   "metadata": {},
   "outputs": [
    {
     "name": "stdout",
     "output_type": "stream",
     "text": [
      "   payment_type    pickup_interval  avg_fare_common  avg_fare_all  \\\n",
      "0           1.0  00:00:00-00:30:00         8.546725     13.869142   \n",
      "1           1.0  00:30:00-01:00:00         8.636446     13.472232   \n",
      "2           1.0  01:00:00-01:30:00         8.484025     12.824603   \n",
      "3           1.0  01:30:00-02:00:00         7.965097     12.357974   \n",
      "4           1.0  02:00:00-02:30:00         7.928883     12.008589   \n",
      "\n",
      "   fare_difference  \n",
      "0        -5.322417  \n",
      "1        -4.835785  \n",
      "2        -4.340578  \n",
      "3        -4.392877  \n",
      "4        -4.079706  \n"
     ]
    }
   ],
   "source": [
    "# Merge the two DataFrames (from Question 14 and Question 9) on payment_type and pickup_interval\n",
    "fare_comparison = common_payment_interval_averages.merge(\n",
    "    payment_interval_averages,  # From Question 9\n",
    "    on=['payment_type', 'pickup_interval'],\n",
    "    suffixes=('_common', '_all')\n",
    ")\n",
    "\n",
    "# Compute the difference in average fare amounts\n",
    "fare_comparison['fare_difference'] = (\n",
    "    fare_comparison['avg_fare_common'] - fare_comparison['avg_fare_all']\n",
    ")\n",
    "\n",
    "# Display the first few rows \n",
    "print(fare_comparison.head())"
   ]
  },
  {
   "cell_type": "markdown",
   "metadata": {},
   "source": [
    "### 16. Compute the ratio between the differences computed in the previous point and those computed in point 9. Note: you have to compute a ratio for each pair (payment type, interval)."
   ]
  },
  {
   "cell_type": "code",
   "execution_count": 19,
   "metadata": {},
   "outputs": [
    {
     "name": "stdout",
     "output_type": "stream",
     "text": [
      "   payment_type    pickup_interval  fare_difference  avg_fare_all  fare_ratio\n",
      "0           1.0  00:00:00-00:30:00        -5.322417     13.869142   -0.383760\n",
      "1           1.0  00:30:00-01:00:00        -4.835785     13.472232   -0.358945\n",
      "2           1.0  01:00:00-01:30:00        -4.340578     12.824603   -0.338457\n",
      "3           1.0  01:30:00-02:00:00        -4.392877     12.357974   -0.355469\n",
      "4           1.0  02:00:00-02:30:00        -4.079706     12.008589   -0.339732\n",
      "5           1.0  02:30:00-03:00:00        -4.348951     12.032076   -0.361446\n",
      "6           1.0  03:00:00-03:30:00        -4.469445     12.505166   -0.357408\n",
      "7           1.0  03:30:00-04:00:00        -4.807996     13.110945   -0.366716\n",
      "8           1.0  04:00:00-04:30:00        -5.746425     14.693714   -0.391080\n",
      "9           1.0  04:30:00-05:00:00        -7.271174     18.052540   -0.402778\n"
     ]
    }
   ],
   "source": [
    "# Compute the ratio between the differences and the average fare amount from Question 9\n",
    "fare_comparison['fare_ratio'] = fare_comparison['fare_difference'] / fare_comparison['avg_fare_all']\n",
    "\n",
    "# Display the first few rows of the result\n",
    "print(fare_comparison[['payment_type', 'pickup_interval', 'fare_difference', 'avg_fare_all', 'fare_ratio']].head(10))\n"
   ]
  },
  {
   "cell_type": "markdown",
   "metadata": {},
   "source": [
    "### 17. Build chains of trips. Two trips are consecutive in a chain if (a) they have the same VendorID, (b) the pickup location of the second trip is also the dropoff location of the first trip, (c) the pickup time of the second trip is after the dropoff time of the first trip, and (d) the pickup time of the second trip is at most 2 minutes later than the dropoff time of the first trip."
   ]
  },
  {
   "cell_type": "code",
   "execution_count": 15,
   "metadata": {},
   "outputs": [],
   "source": [
    "# Sort by vendor and pickup time\n",
    "data = data.sort_values(['VendorID', 'tpep_pickup_datetime']).copy()"
   ]
  },
  {
   "cell_type": "code",
   "execution_count": 18,
   "metadata": {},
   "outputs": [
    {
     "data": {
      "text/html": [
       "<div>\n",
       "<style scoped>\n",
       "    .dataframe tbody tr th:only-of-type {\n",
       "        vertical-align: middle;\n",
       "    }\n",
       "\n",
       "    .dataframe tbody tr th {\n",
       "        vertical-align: top;\n",
       "    }\n",
       "\n",
       "    .dataframe thead th {\n",
       "        text-align: right;\n",
       "    }\n",
       "</style>\n",
       "<table border=\"1\" class=\"dataframe\">\n",
       "  <thead>\n",
       "    <tr style=\"text-align: right;\">\n",
       "      <th></th>\n",
       "      <th>VendorID</th>\n",
       "      <th>tpep_pickup_datetime</th>\n",
       "      <th>tpep_dropoff_datetime</th>\n",
       "      <th>passenger_count</th>\n",
       "      <th>trip_distance</th>\n",
       "      <th>RatecodeID</th>\n",
       "      <th>store_and_fwd_flag</th>\n",
       "      <th>PULocationID</th>\n",
       "      <th>DOLocationID</th>\n",
       "      <th>payment_type</th>\n",
       "      <th>...</th>\n",
       "      <th>extra</th>\n",
       "      <th>mta_tax</th>\n",
       "      <th>tip_amount</th>\n",
       "      <th>tolls_amount</th>\n",
       "      <th>improvement_surcharge</th>\n",
       "      <th>total_amount</th>\n",
       "      <th>congestion_surcharge</th>\n",
       "      <th>duration</th>\n",
       "      <th>pickup_interval</th>\n",
       "      <th>chain</th>\n",
       "    </tr>\n",
       "  </thead>\n",
       "  <tbody>\n",
       "    <tr>\n",
       "      <th>91</th>\n",
       "      <td>1.0</td>\n",
       "      <td>2020-01-01 00:00:00</td>\n",
       "      <td>2020-01-01 00:13:03</td>\n",
       "      <td>1.0</td>\n",
       "      <td>2.2</td>\n",
       "      <td>1.0</td>\n",
       "      <td>N</td>\n",
       "      <td>68</td>\n",
       "      <td>170</td>\n",
       "      <td>1.0</td>\n",
       "      <td>...</td>\n",
       "      <td>3.0</td>\n",
       "      <td>0.5</td>\n",
       "      <td>2.85</td>\n",
       "      <td>0.0</td>\n",
       "      <td>0.3</td>\n",
       "      <td>17.15</td>\n",
       "      <td>2.5</td>\n",
       "      <td>0 days 00:13:03</td>\n",
       "      <td>00:00:00-00:30:00</td>\n",
       "      <td>1</td>\n",
       "    </tr>\n",
       "    <tr>\n",
       "      <th>916</th>\n",
       "      <td>1.0</td>\n",
       "      <td>2020-01-01 00:13:28</td>\n",
       "      <td>2020-01-01 00:31:48</td>\n",
       "      <td>1.0</td>\n",
       "      <td>3.8</td>\n",
       "      <td>1.0</td>\n",
       "      <td>N</td>\n",
       "      <td>170</td>\n",
       "      <td>239</td>\n",
       "      <td>2.0</td>\n",
       "      <td>...</td>\n",
       "      <td>3.0</td>\n",
       "      <td>0.5</td>\n",
       "      <td>0.00</td>\n",
       "      <td>0.0</td>\n",
       "      <td>0.3</td>\n",
       "      <td>19.30</td>\n",
       "      <td>2.5</td>\n",
       "      <td>0 days 00:18:20</td>\n",
       "      <td>00:00:00-00:30:00</td>\n",
       "      <td>1</td>\n",
       "    </tr>\n",
       "    <tr>\n",
       "      <th>6123</th>\n",
       "      <td>1.0</td>\n",
       "      <td>2020-01-01 00:31:54</td>\n",
       "      <td>2020-01-01 01:42:07</td>\n",
       "      <td>2.0</td>\n",
       "      <td>8.0</td>\n",
       "      <td>1.0</td>\n",
       "      <td>N</td>\n",
       "      <td>239</td>\n",
       "      <td>25</td>\n",
       "      <td>1.0</td>\n",
       "      <td>...</td>\n",
       "      <td>3.0</td>\n",
       "      <td>0.5</td>\n",
       "      <td>9.35</td>\n",
       "      <td>0.0</td>\n",
       "      <td>0.3</td>\n",
       "      <td>56.15</td>\n",
       "      <td>2.5</td>\n",
       "      <td>0 days 01:10:13</td>\n",
       "      <td>00:30:00-01:00:00</td>\n",
       "      <td>1</td>\n",
       "    </tr>\n",
       "    <tr>\n",
       "      <th>6230</th>\n",
       "      <td>1.0</td>\n",
       "      <td>2020-01-01 01:43:32</td>\n",
       "      <td>2020-01-01 01:43:32</td>\n",
       "      <td>0.0</td>\n",
       "      <td>0.0</td>\n",
       "      <td>1.0</td>\n",
       "      <td>Y</td>\n",
       "      <td>25</td>\n",
       "      <td>264</td>\n",
       "      <td>2.0</td>\n",
       "      <td>...</td>\n",
       "      <td>0.5</td>\n",
       "      <td>0.5</td>\n",
       "      <td>0.00</td>\n",
       "      <td>0.0</td>\n",
       "      <td>0.3</td>\n",
       "      <td>6.80</td>\n",
       "      <td>0.0</td>\n",
       "      <td>0 days 00:00:00</td>\n",
       "      <td>01:30:00-02:00:00</td>\n",
       "      <td>1</td>\n",
       "    </tr>\n",
       "    <tr>\n",
       "      <th>8121</th>\n",
       "      <td>1.0</td>\n",
       "      <td>2020-01-01 01:44:43</td>\n",
       "      <td>2020-01-01 02:08:36</td>\n",
       "      <td>1.0</td>\n",
       "      <td>4.4</td>\n",
       "      <td>1.0</td>\n",
       "      <td>N</td>\n",
       "      <td>264</td>\n",
       "      <td>264</td>\n",
       "      <td>1.0</td>\n",
       "      <td>...</td>\n",
       "      <td>0.5</td>\n",
       "      <td>0.5</td>\n",
       "      <td>5.75</td>\n",
       "      <td>0.0</td>\n",
       "      <td>0.3</td>\n",
       "      <td>25.05</td>\n",
       "      <td>0.0</td>\n",
       "      <td>0 days 00:23:53</td>\n",
       "      <td>01:30:00-02:00:00</td>\n",
       "      <td>1</td>\n",
       "    </tr>\n",
       "  </tbody>\n",
       "</table>\n",
       "<p>5 rows × 21 columns</p>\n",
       "</div>"
      ],
      "text/plain": [
       "      VendorID tpep_pickup_datetime tpep_dropoff_datetime  passenger_count  \\\n",
       "91         1.0  2020-01-01 00:00:00   2020-01-01 00:13:03              1.0   \n",
       "916        1.0  2020-01-01 00:13:28   2020-01-01 00:31:48              1.0   \n",
       "6123       1.0  2020-01-01 00:31:54   2020-01-01 01:42:07              2.0   \n",
       "6230       1.0  2020-01-01 01:43:32   2020-01-01 01:43:32              0.0   \n",
       "8121       1.0  2020-01-01 01:44:43   2020-01-01 02:08:36              1.0   \n",
       "\n",
       "      trip_distance  RatecodeID store_and_fwd_flag  PULocationID  \\\n",
       "91              2.2         1.0                  N            68   \n",
       "916             3.8         1.0                  N           170   \n",
       "6123            8.0         1.0                  N           239   \n",
       "6230            0.0         1.0                  Y            25   \n",
       "8121            4.4         1.0                  N           264   \n",
       "\n",
       "      DOLocationID  payment_type  ...  extra  mta_tax  tip_amount  \\\n",
       "91             170           1.0  ...    3.0      0.5        2.85   \n",
       "916            239           2.0  ...    3.0      0.5        0.00   \n",
       "6123            25           1.0  ...    3.0      0.5        9.35   \n",
       "6230           264           2.0  ...    0.5      0.5        0.00   \n",
       "8121           264           1.0  ...    0.5      0.5        5.75   \n",
       "\n",
       "      tolls_amount  improvement_surcharge  total_amount  congestion_surcharge  \\\n",
       "91             0.0                    0.3         17.15                   2.5   \n",
       "916            0.0                    0.3         19.30                   2.5   \n",
       "6123           0.0                    0.3         56.15                   2.5   \n",
       "6230           0.0                    0.3          6.80                   0.0   \n",
       "8121           0.0                    0.3         25.05                   0.0   \n",
       "\n",
       "            duration    pickup_interval chain  \n",
       "91   0 days 00:13:03  00:00:00-00:30:00     1  \n",
       "916  0 days 00:18:20  00:00:00-00:30:00     1  \n",
       "6123 0 days 01:10:13  00:30:00-01:00:00     1  \n",
       "6230 0 days 00:00:00  01:30:00-02:00:00     1  \n",
       "8121 0 days 00:23:53  01:30:00-02:00:00     1  \n",
       "\n",
       "[5 rows x 21 columns]"
      ]
     },
     "execution_count": 18,
     "metadata": {},
     "output_type": "execute_result"
    }
   ],
   "source": [
    "final = data.head(10000)\n",
    "\n",
    "current_chain = 1\n",
    "\n",
    "# Group by VendorID and process each vendor separately\n",
    "for vendor_id, vendor_group in final.groupby('VendorID'):\n",
    "    vendor_group = vendor_group.sort_values('tpep_pickup_datetime').copy()\n",
    "    \n",
    "    while len(vendor_group) > 0:\n",
    "        current = vendor_group.iloc[0]\n",
    "                    \n",
    "        final.loc[current.name, 'chain'] = current_chain\n",
    "        \n",
    "        # Remove current trip \n",
    "        vendor_group = vendor_group.iloc[1:]\n",
    "        \n",
    "        while True:\n",
    "            # Find successors\n",
    "            mask = (\n",
    "                (vendor_group['PULocationID'] == current['DOLocationID']) &\n",
    "                (vendor_group['tpep_pickup_datetime'] > current['tpep_dropoff_datetime']) &\n",
    "                (vendor_group['tpep_pickup_datetime'] <= \n",
    "                 current['tpep_dropoff_datetime'] + pd.Timedelta(minutes=2))\n",
    "            )\n",
    "            possible_successors = vendor_group[mask]\n",
    "            \n",
    "            # If no successors found, break inner loop to start new chain\n",
    "            if len(possible_successors) == 0:\n",
    "                current_chain += 1\n",
    "                break\n",
    "            \n",
    "            successor = possible_successors.iloc[0]\n",
    "            \n",
    "            final.loc[successor.name, 'chain'] = current_chain\n",
    "            \n",
    "            # Remove from working group\n",
    "            vendor_group = vendor_group[vendor_group.index != successor.name]\n",
    "            \n",
    "            current = successor\n",
    "            \n",
    "final[final['chain'] == 1]"
   ]
  },
  {
   "cell_type": "code",
   "execution_count": null,
   "metadata": {},
   "outputs": [],
   "source": []
  }
 ],
 "metadata": {
  "kernelspec": {
   "display_name": "Python 3 (ipykernel)",
   "language": "python",
   "name": "python3"
  },
  "language_info": {
   "codemirror_mode": {
    "name": "ipython",
    "version": 3
   },
   "file_extension": ".py",
   "mimetype": "text/x-python",
   "name": "python",
   "nbconvert_exporter": "python",
   "pygments_lexer": "ipython3",
   "version": "3.13.1"
  }
 },
 "nbformat": 4,
 "nbformat_minor": 4
}
